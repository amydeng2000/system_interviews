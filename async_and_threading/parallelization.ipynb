{
  "cells": [
    {
      "cell_type": "markdown",
      "metadata": {
        "id": "IPweCI_EoM-o"
      },
      "source": [
        "## Parallelize via Async\n",
        "Useful for IO bound operations like async API calls, async DB calls, etc"
      ]
    },
    {
      "cell_type": "code",
      "execution_count": 8,
      "metadata": {
        "id": "ew0G-eIQjstc"
      },
      "outputs": [],
      "source": [
        "import asyncio\n",
        "import time\n",
        "\n",
        "async def parallize_via_asyncio_gather(func, params, semaphore=None):\n",
        "  outputs = await asyncio.gather(*[func(x, semaphore) for x in params])\n",
        "  return outputs"
      ]
    },
    {
      "cell_type": "code",
      "execution_count": 9,
      "metadata": {
        "id": "azDyJSPZjnBb"
      },
      "outputs": [],
      "source": [
        "semaphore = asyncio.Semaphore(4)\n",
        "params = [1,2,3,4,5,6,7,8,9,10]\n",
        "\n",
        "async def io_bound_func(some_param, semaphore):\n",
        "  \"\"\"\n",
        "  A slow function that does some processing on some parameters, for exp, an inference call\n",
        "  Semaphore limits the number of concurrent requests that can exist like an inference call\n",
        "  \"\"\"\n",
        "  async with semaphore:\n",
        "    await asyncio.sleep(1) # time.sleep() is synchronous thus blocking, so we can't use that to mock this function!\n",
        "    print(f\"param: {some_param}\")\n",
        "    return some_param\n"
      ]
    },
    {
      "cell_type": "code",
      "execution_count": 10,
      "metadata": {},
      "outputs": [
        {
          "name": "stdout",
          "output_type": "stream",
          "text": [
            "\u001b[0;31mSignature:\u001b[0m \u001b[0masyncio\u001b[0m\u001b[0;34m.\u001b[0m\u001b[0mSemaphore\u001b[0m\u001b[0;34m.\u001b[0m\u001b[0m__aenter__\u001b[0m\u001b[0;34m(\u001b[0m\u001b[0mself\u001b[0m\u001b[0;34m)\u001b[0m\u001b[0;34m\u001b[0m\u001b[0;34m\u001b[0m\u001b[0m\n",
            "\u001b[0;31mDocstring:\u001b[0m <no docstring>\n",
            "\u001b[0;31mSource:\u001b[0m   \n",
            "    \u001b[0;32masync\u001b[0m \u001b[0;32mdef\u001b[0m \u001b[0m__aenter__\u001b[0m\u001b[0;34m(\u001b[0m\u001b[0mself\u001b[0m\u001b[0;34m)\u001b[0m\u001b[0;34m:\u001b[0m\u001b[0;34m\u001b[0m\n",
            "\u001b[0;34m\u001b[0m        \u001b[0;32mawait\u001b[0m \u001b[0mself\u001b[0m\u001b[0;34m.\u001b[0m\u001b[0macquire\u001b[0m\u001b[0;34m(\u001b[0m\u001b[0;34m)\u001b[0m\u001b[0;34m\u001b[0m\n",
            "\u001b[0;34m\u001b[0m        \u001b[0;31m# We have no use for the \"as ...\"  clause in the with\u001b[0m\u001b[0;34m\u001b[0m\n",
            "\u001b[0;34m\u001b[0m        \u001b[0;31m# statement for locks.\u001b[0m\u001b[0;34m\u001b[0m\n",
            "\u001b[0;34m\u001b[0m        \u001b[0;32mreturn\u001b[0m \u001b[0;32mNone\u001b[0m\u001b[0;34m\u001b[0m\u001b[0;34m\u001b[0m\u001b[0m\n",
            "\u001b[0;31mFile:\u001b[0m      ~/miniconda3/lib/python3.12/asyncio/locks.py\n",
            "\u001b[0;31mType:\u001b[0m      function"
          ]
        }
      ],
      "source": [
        "import asyncio\n",
        "asyncio.Semaphore.__aenter__??"
      ]
    },
    {
      "cell_type": "code",
      "execution_count": 11,
      "metadata": {},
      "outputs": [],
      "source": [
        "counter = 4\n",
        "\n",
        "async def check_counter():\n",
        "  global counter\n",
        "  while counter == 0:\n",
        "    continue\n",
        "  counter -= 1\n",
        "  return\n",
        "\n",
        "async def io_bound_func_changed(some_param, semaphore=None):\n",
        "  \"\"\"\n",
        "  A slow function that does some processing on some parameters, for exp, an inference call\n",
        "  Semaphore limits the number of concurrent requests that can exist like an inference call\n",
        "  \"\"\"\n",
        "  while True:\n",
        "    global counter\n",
        "    await check_counter()\n",
        "    await asyncio.sleep(1) # time.sleep() is synchronous thus blocking, so we can't use that to mock this function!\n",
        "    print(f\"param: {some_param}\")\n",
        "    counter += 1\n",
        "    return some_param\n",
        "\n",
        "\n",
        "start = time.time()\n",
        "outputs = await parallize_via_asyncio_gather(io_bound_func_changed, params)\n",
        "print(f\"total time: {time.time() - start} seconds\")\n",
        "print(f\"outputs: {outputs}\")"
      ]
    },
    {
      "cell_type": "code",
      "execution_count": 16,
      "metadata": {
        "colab": {
          "base_uri": "https://localhost:8080/"
        },
        "id": "r_u8hbZfmL3g",
        "outputId": "34f9730f-2d4a-4d47-fd92-16141fcb47bf"
      },
      "outputs": [
        {
          "name": "stdout",
          "output_type": "stream",
          "text": [
            "param: 1\n",
            "param: 2\n",
            "param: 3\n",
            "param: 4\n",
            "param: 5\n",
            "param: 6\n",
            "param: 7\n",
            "param: 8\n",
            "param: 9\n",
            "param: 10\n",
            "total time: 3.004940986633301 seconds\n",
            "outputs: [1, 2, 3, 4, 5, 6, 7, 8, 9, 10]\n"
          ]
        }
      ],
      "source": [
        "start = time.time()\n",
        "outputs = await parallize_via_asyncio_gather(io_bound_func, params, semaphore)\n",
        "print(f\"total time: {time.time() - start} seconds\")\n",
        "print(f\"outputs: {outputs}\")"
      ]
    },
    {
      "cell_type": "markdown",
      "metadata": {},
      "source": [
        "What happens if exceptions are raised from individual functions? Ex. in the case that inference fail to run"
      ]
    },
    {
      "cell_type": "code",
      "execution_count": 4,
      "metadata": {},
      "outputs": [],
      "source": [
        "semaphore = asyncio.Semaphore(4)\n",
        "params = [1,2,3,4,5,6,7,8,9,10]\n",
        "\n",
        "async def io_bound_func_w_exceptions(some_param, semaphore):\n",
        "  \"\"\"\n",
        "  A slow function that does some processing on some parameters, for exp, an inference call\n",
        "  Semaphore limits the number of concurrent requests that can exist like an inference call\n",
        "  \"\"\"\n",
        "  async with semaphore:\n",
        "    await asyncio.sleep(1)\n",
        "    print(f\"param: {some_param}\")\n",
        "    if some_param == 6:\n",
        "      raise Exception(\"Raising an arbitrary exception\")\n",
        "    return some_param"
      ]
    },
    {
      "cell_type": "markdown",
      "metadata": {},
      "source": [
        "If any individual async call raises an exception, the entire process is stopped and we fail to save the outputs from the other function calls. This unfortunately happens way too often in production inference settings."
      ]
    },
    {
      "cell_type": "code",
      "execution_count": 5,
      "metadata": {},
      "outputs": [
        {
          "name": "stdout",
          "output_type": "stream",
          "text": [
            "param: 1\n",
            "param: 2\n",
            "param: 3\n",
            "param: 4\n",
            "param: 5\n",
            "param: 6\n",
            "param: 7\n",
            "param: 8\n"
          ]
        },
        {
          "ename": "Exception",
          "evalue": "Raising an arbitrary exception",
          "output_type": "error",
          "traceback": [
            "\u001b[0;31m---------------------------------------------------------------------------\u001b[0m",
            "\u001b[0;31mException\u001b[0m                                 Traceback (most recent call last)",
            "Cell \u001b[0;32mIn[5], line 2\u001b[0m\n\u001b[1;32m      1\u001b[0m start \u001b[38;5;241m=\u001b[39m time\u001b[38;5;241m.\u001b[39mtime()\n\u001b[0;32m----> 2\u001b[0m new_outputs \u001b[38;5;241m=\u001b[39m \u001b[38;5;28;01mawait\u001b[39;00m parallize_via_asyncio_gather(io_bound_func_w_exceptions, params, semaphore)\n\u001b[1;32m      3\u001b[0m \u001b[38;5;28mprint\u001b[39m(\u001b[38;5;124mf\u001b[39m\u001b[38;5;124m\"\u001b[39m\u001b[38;5;124mtotal time: \u001b[39m\u001b[38;5;132;01m{\u001b[39;00mtime\u001b[38;5;241m.\u001b[39mtime()\u001b[38;5;250m \u001b[39m\u001b[38;5;241m-\u001b[39m\u001b[38;5;250m \u001b[39mstart\u001b[38;5;132;01m}\u001b[39;00m\u001b[38;5;124m seconds\u001b[39m\u001b[38;5;124m\"\u001b[39m)\n\u001b[1;32m      4\u001b[0m \u001b[38;5;28mprint\u001b[39m(\u001b[38;5;124mf\u001b[39m\u001b[38;5;124m\"\u001b[39m\u001b[38;5;124moutputs: \u001b[39m\u001b[38;5;132;01m{\u001b[39;00mnew_outputs\u001b[38;5;132;01m}\u001b[39;00m\u001b[38;5;124m\"\u001b[39m)\n",
            "Cell \u001b[0;32mIn[1], line 5\u001b[0m, in \u001b[0;36mparallize_via_asyncio_gather\u001b[0;34m(func, params, semaphore)\u001b[0m\n\u001b[1;32m      4\u001b[0m \u001b[38;5;28;01masync\u001b[39;00m \u001b[38;5;28;01mdef\u001b[39;00m \u001b[38;5;21mparallize_via_asyncio_gather\u001b[39m(func, params, semaphore):\n\u001b[0;32m----> 5\u001b[0m   outputs \u001b[38;5;241m=\u001b[39m \u001b[38;5;28;01mawait\u001b[39;00m asyncio\u001b[38;5;241m.\u001b[39mgather(\u001b[38;5;241m*\u001b[39m[func(x, semaphore) \u001b[38;5;28;01mfor\u001b[39;00m x \u001b[38;5;129;01min\u001b[39;00m params])\n\u001b[1;32m      6\u001b[0m   \u001b[38;5;28;01mreturn\u001b[39;00m outputs\n",
            "Cell \u001b[0;32mIn[4], line 13\u001b[0m, in \u001b[0;36mio_bound_func_w_exceptions\u001b[0;34m(some_param, semaphore)\u001b[0m\n\u001b[1;32m     11\u001b[0m \u001b[38;5;28mprint\u001b[39m(\u001b[38;5;124mf\u001b[39m\u001b[38;5;124m\"\u001b[39m\u001b[38;5;124mparam: \u001b[39m\u001b[38;5;132;01m{\u001b[39;00msome_param\u001b[38;5;132;01m}\u001b[39;00m\u001b[38;5;124m\"\u001b[39m)\n\u001b[1;32m     12\u001b[0m \u001b[38;5;28;01mif\u001b[39;00m some_param \u001b[38;5;241m==\u001b[39m \u001b[38;5;241m6\u001b[39m:\n\u001b[0;32m---> 13\u001b[0m   \u001b[38;5;28;01mraise\u001b[39;00m \u001b[38;5;167;01mException\u001b[39;00m(\u001b[38;5;124m\"\u001b[39m\u001b[38;5;124mRaising an arbitrary exception\u001b[39m\u001b[38;5;124m\"\u001b[39m)\n\u001b[1;32m     14\u001b[0m \u001b[38;5;28;01mreturn\u001b[39;00m some_param\n",
            "\u001b[0;31mException\u001b[0m: Raising an arbitrary exception"
          ]
        },
        {
          "name": "stdout",
          "output_type": "stream",
          "text": [
            "param: 9\n",
            "param: 10\n"
          ]
        }
      ],
      "source": [
        "start = time.time()\n",
        "new_outputs = await parallize_via_asyncio_gather(io_bound_func_w_exceptions, params, semaphore)\n",
        "print(f\"total time: {time.time() - start} seconds\")\n",
        "print(f\"outputs: {new_outputs}\")"
      ]
    },
    {
      "cell_type": "code",
      "execution_count": 6,
      "metadata": {},
      "outputs": [
        {
          "ename": "NameError",
          "evalue": "name 'new_outputs' is not defined",
          "output_type": "error",
          "traceback": [
            "\u001b[0;31m---------------------------------------------------------------------------\u001b[0m",
            "\u001b[0;31mNameError\u001b[0m                                 Traceback (most recent call last)",
            "Cell \u001b[0;32mIn[6], line 1\u001b[0m\n\u001b[0;32m----> 1\u001b[0m \u001b[43mnew_outputs\u001b[49m\n",
            "\u001b[0;31mNameError\u001b[0m: name 'new_outputs' is not defined"
          ]
        }
      ],
      "source": [
        "new_outputs"
      ]
    },
    {
      "cell_type": "markdown",
      "metadata": {},
      "source": [
        "To get around this, we use `asyncio.as_completed`, which has some pros and cons\n",
        "\n",
        "pros:\n",
        "- you can set individual timeouts easily (to account for cases like inference call stalling)\n",
        "- you can process exceptions for individual function calls\n",
        "\n",
        "cons:\n",
        "- it doesn't preserve the sequence of the returned outputs, it will instead be ordered by which function call finishes first."
      ]
    },
    {
      "cell_type": "code",
      "execution_count": 7,
      "metadata": {},
      "outputs": [],
      "source": [
        "from tqdm.asyncio import tqdm\n",
        "\n",
        "async def parallize_via_asyncio_as_completed(func, params, semaphore):\n",
        "    outputs = []\n",
        "    tasks = [func(param, semaphore) for param in params]\n",
        "    for future in tqdm.as_completed(tasks, total=len(tasks)): # alternatively, use asyncio.as_completed to remove the progress bar\n",
        "        try:\n",
        "            output = await asyncio.wait_for(future, timeout=3)\n",
        "            outputs.append(output)\n",
        "        except Exception as e:\n",
        "            print(f\"Caught exception: {e}\")\n",
        "        \n",
        "    return outputs"
      ]
    },
    {
      "cell_type": "code",
      "execution_count": 8,
      "metadata": {},
      "outputs": [
        {
          "name": "stderr",
          "output_type": "stream",
          "text": [
            " 10%|█         | 1/10 [00:01<00:09,  1.00s/it]"
          ]
        },
        {
          "name": "stdout",
          "output_type": "stream",
          "text": [
            "param: 6\n",
            "param: 4\n",
            "param: 2\n",
            "param: 9\n",
            "Caught exception: Raising an arbitrary exception\n"
          ]
        },
        {
          "name": "stderr",
          "output_type": "stream",
          "text": [
            " 50%|█████     | 5/10 [00:02<00:01,  2.76it/s]"
          ]
        },
        {
          "name": "stdout",
          "output_type": "stream",
          "text": [
            "param: 7\n",
            "param: 5\n",
            "param: 3\n",
            "param: 1\n"
          ]
        },
        {
          "name": "stderr",
          "output_type": "stream",
          "text": [
            "100%|██████████| 10/10 [00:03<00:00,  3.33it/s]"
          ]
        },
        {
          "name": "stdout",
          "output_type": "stream",
          "text": [
            "param: 10\n",
            "param: 8\n",
            "outputs: [4, 2, 9, 7, 5, 3, 1, 10, 8]\n"
          ]
        },
        {
          "name": "stderr",
          "output_type": "stream",
          "text": [
            "\n"
          ]
        }
      ],
      "source": [
        "outputs = await parallize_via_asyncio_as_completed(io_bound_func_w_exceptions, params, semaphore=semaphore)\n",
        "print(f\"outputs: {outputs}\")"
      ]
    },
    {
      "cell_type": "markdown",
      "metadata": {},
      "source": [
        "## Parallize via Threading\n",
        "Useful for CPU bound tasks (complex computation) and I/O bound tasks like reading files.\n",
        "\n",
        "Usually, we want to start with num_cpu_cores number of threads for CPU bound tasks."
      ]
    },
    {
      "cell_type": "code",
      "execution_count": 1,
      "metadata": {},
      "outputs": [
        {
          "name": "stderr",
          "output_type": "stream",
          "text": [
            "100%|██████████| 100/100 [00:05<00:00, 17.57it/s]"
          ]
        },
        {
          "name": "stdout",
          "output_type": "stream",
          "text": [
            "outputs: [0, 333328333350000, 2666646666700000, 8999955000050000, 21333253333400000, 41666541666750000, 71999820000100000, 114333088333450000, 170666346666800000, 242999595000150000, 333332833333500000, 443666061666850000, 575999280000200000, 732332488333550000, 914665686666900000, 1124998875000250000, 1365332053333600000, 1637665221666950000, 1943998380000300000, 2286331528333650000, 2666664666667000000, 3086997795000350000, 3549330913333700000, 4055664021667050000, 4607997120000400000, 5208330208333750000, 5858663286667100000, 6560996355000450000, 7317329413333800000, 8129662461667150000, 8999995500000500000, 9930328528333850000, 10922661546667200000, 11978994555000550000, 13101327553333900000, 14291660541667250000, 15551993520000600000, 16884326488333950000, 18290659446667300000, 19772992395000650000, 21333325333334000000, 22973658261667350000, 24695991180000700000, 26502324088334050000, 28394656986667400000, 30374989875000750000, 32445322753334100000, 34607655621667450000, 36863988480000800000, 39216321328334150000, 41666654166667500000, 44216986995000850000, 46869319813334200000, 49625652621667550000, 52487985420000900000, 55458318208334250000, 58538650986667600000, 61730983755000950000, 65037316513334300000, 68459649261667650000, 71999982000001000000, 75660314728334350000, 79442647446667700000, 83348980155001050000, 87381312853334400000, 91541645541667750000, 95831978220001100000, 100254310888334450000, 104810643546667800000, 109502976195001150000, 114333308833334500000, 119303641461667850000, 124415974080001200000, 129672306688334550000, 135074639286667900000, 140624971875001250000, 146325304453334600000, 152177637021667950000, 158183969580001300000, 164346302128334650000, 170666634666668000000, 177146967195001350000, 183789299713334700000, 190595632221668050000, 197567964720001400000, 204708297208334750000, 212018629686668100000, 219500962155001450000, 227157294613334800000, 234989627061668150000, 242999959500001500000, 251190291928334850000, 259562624346668200000, 268118956755001550000, 276861289153334900000, 285791621541668250000, 294911953920001600000, 304224286288334950000, 313730618646668300000, 323432950995001650000]\n",
            "It took 5.772459030151367 seconds via process pool parallization\n"
          ]
        },
        {
          "name": "stderr",
          "output_type": "stream",
          "text": [
            "\n"
          ]
        }
      ],
      "source": [
        "from multi_threading_demo import process_pool_parallelized\n",
        "import time\n",
        "\n",
        "start = time.time()\n",
        "outputs = process_pool_parallelized()\n",
        "print(f\"outputs: {outputs}\")\n",
        "print(f\"It took {time.time() - start} seconds via process pool parallization\")"
      ]
    },
    {
      "cell_type": "markdown",
      "metadata": {},
      "source": [
        "AMP structure contains x performance cores and x effiicency cores. They are all physical cores. Efficiency cores are for lower intensity background tasks for the purpose of saving battery (they are weaker). Unplugged vs. plugged in laptop have different optimizations when running the same function above.\n",
        "\n",
        "plugged in:\n",
        "- 4 workers: 7.3s\n",
        "- 8 workers: 5.8s\n",
        "\n",
        "not plugged in:\n",
        "- 4 workers: 16.5s\n",
        "- 8 workers: 13.0s"
      ]
    },
    {
      "cell_type": "code",
      "execution_count": 1,
      "metadata": {},
      "outputs": [
        {
          "name": "stderr",
          "output_type": "stream",
          "text": [
            "100it [00:22,  4.43it/s]"
          ]
        },
        {
          "name": "stdout",
          "output_type": "stream",
          "text": [
            "outputs: [0, 333328333350000, 2666646666700000, 8999955000050000, 21333253333400000, 41666541666750000, 71999820000100000, 114333088333450000, 170666346666800000, 242999595000150000, 333332833333500000, 443666061666850000, 575999280000200000, 732332488333550000, 914665686666900000, 1124998875000250000, 1365332053333600000, 1637665221666950000, 1943998380000300000, 2286331528333650000, 2666664666667000000, 3086997795000350000, 3549330913333700000, 4055664021667050000, 4607997120000400000, 5208330208333750000, 5858663286667100000, 6560996355000450000, 7317329413333800000, 8129662461667150000, 8999995500000500000, 9930328528333850000, 10922661546667200000, 11978994555000550000, 13101327553333900000, 14291660541667250000, 15551993520000600000, 16884326488333950000, 18290659446667300000, 19772992395000650000, 21333325333334000000, 22973658261667350000, 24695991180000700000, 26502324088334050000, 28394656986667400000, 30374989875000750000, 32445322753334100000, 34607655621667450000, 36863988480000800000, 39216321328334150000, 41666654166667500000, 44216986995000850000, 46869319813334200000, 49625652621667550000, 52487985420000900000, 55458318208334250000, 58538650986667600000, 61730983755000950000, 65037316513334300000, 68459649261667650000, 71999982000001000000, 75660314728334350000, 79442647446667700000, 83348980155001050000, 87381312853334400000, 91541645541667750000, 95831978220001100000, 100254310888334450000, 104810643546667800000, 109502976195001150000, 114333308833334500000, 119303641461667850000, 124415974080001200000, 129672306688334550000, 135074639286667900000, 140624971875001250000, 146325304453334600000, 152177637021667950000, 158183969580001300000, 164346302128334650000, 170666634666668000000, 177146967195001350000, 183789299713334700000, 190595632221668050000, 197567964720001400000, 204708297208334750000, 212018629686668100000, 219500962155001450000, 227157294613334800000, 234989627061668150000, 242999959500001500000, 251190291928334850000, 259562624346668200000, 268118956755001550000, 276861289153334900000, 285791621541668250000, 294911953920001600000, 304224286288334950000, 313730618646668300000, 323432950995001650000]\n",
            "It took 24.628835201263428 seconds via thread pool parallization\n"
          ]
        },
        {
          "name": "stderr",
          "output_type": "stream",
          "text": [
            "\n"
          ]
        }
      ],
      "source": [
        "from multi_threading_demo import thread_pool_parallelized\n",
        "import time\n",
        "\n",
        "start = time.time()\n",
        "outputs = thread_pool_parallelized()\n",
        "print(f\"outputs: {outputs}\")\n",
        "print(f\"It took {time.time() - start} seconds via thread pool parallization\")"
      ]
    },
    {
      "cell_type": "markdown",
      "metadata": {},
      "source": [
        "- ThreadPool takes the same time as no parallization because threadpool is affected by Python's GIL (Global Interpretor Lock), which only allows one thread to execute the python bytecode at a time. \n",
        "- ProcessPool gets around this because each process has its own python interpretor and memory space, which is more overhead and memory consumption. It is better for CPU bound tasks because it can effectively utilize multiple cores at the same time\n",
        "- What is ThreadPool good for then? I/O bound tasks (ex. file reads or network requests that you can't use async for). When the thread is waiting for an I/O bound task to complete (ex. waiting for a network request to send a response), it releases GIL, which allow a second thread to execute.\n",
        "- TLDR: Most of the time, ProcessPool is probably better"
      ]
    },
    {
      "cell_type": "code",
      "execution_count": 4,
      "metadata": {},
      "outputs": [
        {
          "name": "stdout",
          "output_type": "stream",
          "text": [
            "outputs: [0, 333328333350000, 2666646666700000, 8999955000050000, 21333253333400000, 41666541666750000, 71999820000100000, 114333088333450000, 170666346666800000, 242999595000150000, 333332833333500000, 443666061666850000, 575999280000200000, 732332488333550000, 914665686666900000, 1124998875000250000, 1365332053333600000, 1637665221666950000, 1943998380000300000, 2286331528333650000, 2666664666667000000, 3086997795000350000, 3549330913333700000, 4055664021667050000, 4607997120000400000, 5208330208333750000, 5858663286667100000, 6560996355000450000, 7317329413333800000, 8129662461667150000, 8999995500000500000, 9930328528333850000, 10922661546667200000, 11978994555000550000, 13101327553333900000, 14291660541667250000, 15551993520000600000, 16884326488333950000, 18290659446667300000, 19772992395000650000, 21333325333334000000, 22973658261667350000, 24695991180000700000, 26502324088334050000, 28394656986667400000, 30374989875000750000, 32445322753334100000, 34607655621667450000, 36863988480000800000, 39216321328334150000, 41666654166667500000, 44216986995000850000, 46869319813334200000, 49625652621667550000, 52487985420000900000, 55458318208334250000, 58538650986667600000, 61730983755000950000, 65037316513334300000, 68459649261667650000, 71999982000001000000, 75660314728334350000, 79442647446667700000, 83348980155001050000, 87381312853334400000, 91541645541667750000, 95831978220001100000, 100254310888334450000, 104810643546667800000, 109502976195001150000, 114333308833334500000, 119303641461667850000, 124415974080001200000, 129672306688334550000, 135074639286667900000, 140624971875001250000, 146325304453334600000, 152177637021667950000, 158183969580001300000, 164346302128334650000, 170666634666668000000, 177146967195001350000, 183789299713334700000, 190595632221668050000, 197567964720001400000, 204708297208334750000, 212018629686668100000, 219500962155001450000, 227157294613334800000, 234989627061668150000, 242999959500001500000, 251190291928334850000, 259562624346668200000, 268118956755001550000, 276861289153334900000, 285791621541668250000, 294911953920001600000, 304224286288334950000, 313730618646668300000, 323432950995001650000]\n",
            "It took 25.799113988876343 seconds without parallization\n"
          ]
        }
      ],
      "source": [
        "from multi_threading_demo import no_parallelize\n",
        "import time\n",
        "\n",
        "start = time.time()\n",
        "outputs = no_parallelize()\n",
        "print(f\"outputs: {outputs}\")\n",
        "print(f\"It took {time.time() - start} seconds without parallization\")"
      ]
    },
    {
      "cell_type": "code",
      "execution_count": null,
      "metadata": {},
      "outputs": [],
      "source": []
    }
  ],
  "metadata": {
    "colab": {
      "provenance": []
    },
    "kernelspec": {
      "display_name": "Python 3",
      "name": "python3"
    },
    "language_info": {
      "codemirror_mode": {
        "name": "ipython",
        "version": 3
      },
      "file_extension": ".py",
      "mimetype": "text/x-python",
      "name": "python",
      "nbconvert_exporter": "python",
      "pygments_lexer": "ipython3",
      "version": "3.12.4"
    }
  },
  "nbformat": 4,
  "nbformat_minor": 0
}
