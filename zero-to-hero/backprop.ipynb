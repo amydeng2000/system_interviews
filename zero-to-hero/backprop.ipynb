{
 "cells": [
  {
   "cell_type": "code",
   "execution_count": 1,
   "metadata": {},
   "outputs": [],
   "source": [
    "import torch"
   ]
  },
  {
   "cell_type": "markdown",
   "metadata": {},
   "source": [
    "We want to implement the pytorch `.backward()` function such that we get the same gradients for x1, x2, w1, and w2"
   ]
  },
  {
   "cell_type": "code",
   "execution_count": 58,
   "metadata": {},
   "outputs": [
    {
     "name": "stdout",
     "output_type": "stream",
     "text": [
      "0.7071066904050358\n",
      "---\n",
      "x2 0.5000001283844369\n",
      "w2 0.0\n",
      "x1 -1.5000003851533106\n",
      "w1 1.0000002567688737\n",
      "b 0.5000001283844369\n"
     ]
    }
   ],
   "source": [
    "x1 = torch.Tensor([2.0]).double()                ; x1.requires_grad = True\n",
    "x2 = torch.Tensor([0.0]).double()                ; x2.requires_grad = True\n",
    "w1 = torch.Tensor([-3.0]).double()               ; w1.requires_grad = True\n",
    "w2 = torch.Tensor([1.0]).double()                ; w2.requires_grad = True\n",
    "b = torch.Tensor([6.8813735870195432]).double()  ; b.requires_grad = True\n",
    "n = x1*w1 + x2*w2 + b\n",
    "o = torch.tanh(n)\n",
    "\n",
    "print(o.data.item())\n",
    "o.backward()\n",
    "\n",
    "print('---')\n",
    "print('x2', x2.grad.item())\n",
    "print('w2', w2.grad.item())\n",
    "print('x1', x1.grad.item())\n",
    "print('w1', w1.grad.item())\n",
    "print('b', b.grad.item())"
   ]
  },
  {
   "cell_type": "code",
   "execution_count": 63,
   "metadata": {},
   "outputs": [],
   "source": [
    "import math\n",
    "from typing import Union\n",
    "class Value():\n",
    "    def __init__(self, data, children=(), op=\"\"):\n",
    "        self.data = data\n",
    "        self.grad = 0\n",
    "        self.children = set(children)\n",
    "        self.op = op # the operation that resulted in this Value\n",
    "        self._backward = lambda: None\n",
    "    \n",
    "    def __add__(self, other: Union[int,\"Value\"]):\n",
    "        other = Value(other) if isinstance(other, int) else other\n",
    "        out = Value(self.data + other.data, (self, other), \"+\")\n",
    "\n",
    "        def _backward():\n",
    "            self.grad += 1.0 * out.grad # must be += because the same variable can be used multiple times thus this is cumulative\n",
    "            other.grad += 1.0 * out.grad\n",
    "        self._backward = _backward\n",
    "\n",
    "        return out\n",
    "    \n",
    "    def __mul__(self, other: Union[int,\"Value\"]):\n",
    "        other = Value(other) if isinstance(other, int) else other\n",
    "        out = Value(self.data * other.data, (self, other), \"*\")\n",
    "        \n",
    "        def _backward():\n",
    "            self.grad += other.data * out.grad # must be += because the same variable can be used multiple times thus this is cumulative\n",
    "            other.grad += self.data * out.grad\n",
    "        self._backward = _backward\n",
    "\n",
    "        return out\n",
    "    \n",
    "    def tanh(self):\n",
    "        t = (math.exp(2*self.data) - 1)/(math.exp(2*self.data) + 1)\n",
    "        out = Value(t, (self, ), \"tanh\")\n",
    "\n",
    "        def _backward():\n",
    "            self.grad += out.grad * (1 - t**2)\n",
    "        self._backward = _backward\n",
    "\n",
    "        return out\n",
    "    \n",
    "    def backward(self):\n",
    "        # topological sort\n",
    "        visited = set()\n",
    "        topo_sorted = []\n",
    "        to_visit = [self]\n",
    "        \n",
    "        while to_visit:\n",
    "            node = to_visit.pop()\n",
    "            visited.add(node)\n",
    "            topo_sorted.append(node)\n",
    "            for child in node.children:\n",
    "                if child not in visited:\n",
    "                    to_visit.append(child)\n",
    "\n",
    "        for node in topo_sorted:\n",
    "            node._backward()\n",
    "        \n"
   ]
  },
  {
   "cell_type": "code",
   "execution_count": 64,
   "metadata": {},
   "outputs": [],
   "source": [
    "x1 = Value(2)\n",
    "x2 = Value(0)\n",
    "w1 = Value(-3)\n",
    "w2 = Value(1)\n",
    "b = Value(6.8813735870195432)\n",
    "n = x1*w1 + x2*w2 + b\n",
    "o = n.tanh()\n",
    "\n",
    "o.grad = 1.0\n",
    "o.backward()"
   ]
  },
  {
   "cell_type": "code",
   "execution_count": 65,
   "metadata": {},
   "outputs": [
    {
     "name": "stdout",
     "output_type": "stream",
     "text": [
      "x2 0\n",
      "w2 0\n",
      "x1 -1.4999999999999996\n",
      "w1 0.9999999999999998\n",
      "b 0.4999999999999999\n"
     ]
    }
   ],
   "source": [
    "print('x2', x2.grad)\n",
    "print('w2', w2.grad)\n",
    "print('x1', x1.grad)\n",
    "print('w1', w1.grad)\n",
    "print('b', b.grad)"
   ]
  },
  {
   "cell_type": "code",
   "execution_count": null,
   "metadata": {},
   "outputs": [],
   "source": []
  }
 ],
 "metadata": {
  "kernelspec": {
   "display_name": "venv",
   "language": "python",
   "name": "python3"
  },
  "language_info": {
   "codemirror_mode": {
    "name": "ipython",
    "version": 3
   },
   "file_extension": ".py",
   "mimetype": "text/x-python",
   "name": "python",
   "nbconvert_exporter": "python",
   "pygments_lexer": "ipython3",
   "version": "3.12.4"
  }
 },
 "nbformat": 4,
 "nbformat_minor": 2
}
